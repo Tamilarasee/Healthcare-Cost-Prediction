{
 "cells": [
  {
   "cell_type": "markdown",
   "id": "bf1a7f18",
   "metadata": {},
   "source": [
    "# Week2 Basic EDA Assignment\n",
    "\n",
    "## Solving it using Pandas Library."
   ]
  },
  {
   "cell_type": "code",
   "execution_count": 1,
   "id": "95b379ad",
   "metadata": {},
   "outputs": [
    {
     "data": {
      "text/html": [
       "<div>\n",
       "<style scoped>\n",
       "    .dataframe tbody tr th:only-of-type {\n",
       "        vertical-align: middle;\n",
       "    }\n",
       "\n",
       "    .dataframe tbody tr th {\n",
       "        vertical-align: top;\n",
       "    }\n",
       "\n",
       "    .dataframe thead th {\n",
       "        text-align: right;\n",
       "    }\n",
       "</style>\n",
       "<table border=\"1\" class=\"dataframe\">\n",
       "  <thead>\n",
       "    <tr style=\"text-align: right;\">\n",
       "      <th></th>\n",
       "      <th>age</th>\n",
       "      <th>sex</th>\n",
       "      <th>bmi</th>\n",
       "      <th>children</th>\n",
       "      <th>smoker</th>\n",
       "      <th>region</th>\n",
       "      <th>charges</th>\n",
       "    </tr>\n",
       "  </thead>\n",
       "  <tbody>\n",
       "    <tr>\n",
       "      <th>0</th>\n",
       "      <td>19</td>\n",
       "      <td>female</td>\n",
       "      <td>27.900</td>\n",
       "      <td>0</td>\n",
       "      <td>yes</td>\n",
       "      <td>southwest</td>\n",
       "      <td>16884.92400</td>\n",
       "    </tr>\n",
       "    <tr>\n",
       "      <th>1</th>\n",
       "      <td>18</td>\n",
       "      <td>male</td>\n",
       "      <td>33.770</td>\n",
       "      <td>1</td>\n",
       "      <td>no</td>\n",
       "      <td>southeast</td>\n",
       "      <td>1725.55230</td>\n",
       "    </tr>\n",
       "    <tr>\n",
       "      <th>2</th>\n",
       "      <td>28</td>\n",
       "      <td>male</td>\n",
       "      <td>33.000</td>\n",
       "      <td>3</td>\n",
       "      <td>no</td>\n",
       "      <td>southeast</td>\n",
       "      <td>4449.46200</td>\n",
       "    </tr>\n",
       "    <tr>\n",
       "      <th>3</th>\n",
       "      <td>33</td>\n",
       "      <td>male</td>\n",
       "      <td>22.705</td>\n",
       "      <td>0</td>\n",
       "      <td>no</td>\n",
       "      <td>northwest</td>\n",
       "      <td>21984.47061</td>\n",
       "    </tr>\n",
       "    <tr>\n",
       "      <th>4</th>\n",
       "      <td>32</td>\n",
       "      <td>male</td>\n",
       "      <td>28.880</td>\n",
       "      <td>0</td>\n",
       "      <td>no</td>\n",
       "      <td>northwest</td>\n",
       "      <td>3866.85520</td>\n",
       "    </tr>\n",
       "  </tbody>\n",
       "</table>\n",
       "</div>"
      ],
      "text/plain": [
       "   age     sex     bmi  children smoker     region      charges\n",
       "0   19  female  27.900         0    yes  southwest  16884.92400\n",
       "1   18    male  33.770         1     no  southeast   1725.55230\n",
       "2   28    male  33.000         3     no  southeast   4449.46200\n",
       "3   33    male  22.705         0     no  northwest  21984.47061\n",
       "4   32    male  28.880         0     no  northwest   3866.85520"
      ]
     },
     "execution_count": 1,
     "metadata": {},
     "output_type": "execute_result"
    }
   ],
   "source": [
    "import pandas as pd\n",
    "health_data = pd.read_csv(\"HealthData.csv\")\n",
    "health_data.head()"
   ]
  },
  {
   "cell_type": "code",
   "execution_count": 9,
   "id": "3804ce02",
   "metadata": {},
   "outputs": [
    {
     "name": "stdout",
     "output_type": "stream",
     "text": [
      "Average age:39.21\n",
      "Average BMI:30.66\n"
     ]
    }
   ],
   "source": [
    "#(Q) Calculate the average age and BMI of the individuals in the dataset.\n",
    "\n",
    "average_age = health_data[\"age\"].mean()\n",
    "average_bmi = health_data[\"bmi\"].mean()\n",
    "\n",
    "print(f\"Average age:{average_age:.2f}\")\n",
    "print(f\"Average BMI:{average_bmi:.2f}\")"
   ]
  },
  {
   "cell_type": "code",
   "execution_count": 22,
   "id": "b4e45068",
   "metadata": {},
   "outputs": [
    {
     "name": "stdout",
     "output_type": "stream",
     "text": [
      "Total -  1338\n",
      " \n",
      "        Count  percentage\n",
      "smoker                   \n",
      "no       1064       79.52\n",
      "yes       274       20.48\n"
     ]
    }
   ],
   "source": [
    "#(Q)Determine how many smokers and non-smokers are in the dataset, and what percentage of the total each group represents\n",
    "smoker_count = health_data[\"smoker\"].value_counts().to_frame(name=\"Count\")\n",
    "print(f\"Total -  {len(health_data)}\\n \")\n",
    "smoker_count[\"percentage\"] = round(smoker_count[\"Count\"]/len(health_data) * 100,2)\n",
    "print(smoker_count)"
   ]
  },
  {
   "cell_type": "code",
   "execution_count": 36,
   "id": "4ebd1f85",
   "metadata": {},
   "outputs": [
    {
     "name": "stdout",
     "output_type": "stream",
     "text": [
      "Minimum - 1121.8739\n",
      "Maximum - 63770.42801\n",
      "Median - 9382.033\n"
     ]
    }
   ],
   "source": [
    "#(Q)Find the minimum, maximum, and median insurance charges in the dataset.\n",
    "# Easy method\n",
    "min = health_data[\"charges\"].min()\n",
    "max = health_data[\"charges\"].max()\n",
    "median = health_data[\"charges\"].median()\n",
    "print(f\"Minimum - {min}\\nMaximum - {max}\\nMedian - {median}\")\n"
   ]
  },
  {
   "cell_type": "code",
   "execution_count": 38,
   "id": "0e2bc90e",
   "metadata": {},
   "outputs": [
    {
     "name": "stdout",
     "output_type": "stream",
     "text": [
      "min        1121.87390\n",
      "max       63770.42801\n",
      "median     9382.03300\n",
      "Name: charges, dtype: float64\n"
     ]
    }
   ],
   "source": [
    "#(Q)Find the minimum, maximum, and median insurance charges in the dataset.\n",
    "# Better approach\n",
    "metrics = health_data[\"charges\"].agg(['min', 'max', 'median'])\n",
    "print(metrics)\n"
   ]
  },
  {
   "cell_type": "code",
   "execution_count": 51,
   "id": "3b766f51",
   "metadata": {},
   "outputs": [
    {
     "name": "stdout",
     "output_type": "stream",
     "text": [
      "Average Charges by Age Group: age_groups\n",
      "Under 18        7086.217556\n",
      "Young          10107.686182\n",
      "Middle-aged    14796.556106\n",
      "Senior         19311.953960\n",
      "Name: charges, dtype: float64\n"
     ]
    }
   ],
   "source": [
    "#(Q) Create a new column called 'age_group' that categorizes individuals into 'Young' (18-35), 'Middle-aged' (36-55), and 'Senior' (56+), then calculate the average charges for each age group.\n",
    "\n",
    "health_data[\"age_group\"] = pd.cut(health_data[\"age\"], bins = [0,18,35,56, float('inf')], labels=['Under 18', 'Young', 'Middle-aged', 'Senior'])\n",
    "\n",
    "group_charges = health_data.groupby(\"age_groups\", observed=True)[\"charges\"].mean()\n",
    "print(f\"Average Charges by Age Group: {group_charges}\")\n"
   ]
  },
  {
   "cell_type": "markdown",
   "id": "83eb75be",
   "metadata": {},
   "source": [
    "pd.cut() - Converts continuous numerical data into categorical bins\n",
    "groupby - observed\n",
    "False: Include all possible categories, even if empty\n",
    "True: Only include categories actually present in the data\n"
   ]
  },
  {
   "cell_type": "code",
   "execution_count": null,
   "id": "963ac3b6",
   "metadata": {},
   "outputs": [],
   "source": [
    "# health_data[\"age_group\"] = [\"Young\" if 18<=age<=35 \n",
    "#                             else \"Middle-ages\" if 36<=age<=55 \n",
    "#                             else \"Senior\" if age>=56 \n",
    "#                             else \"Under 18\" \n",
    "#                             for age in health_data[\"age\"]]"
   ]
  },
  {
   "cell_type": "code",
   "execution_count": 61,
   "id": "d1765bea",
   "metadata": {},
   "outputs": [
    {
     "data": {
      "text/html": [
       "<div>\n",
       "<style scoped>\n",
       "    .dataframe tbody tr th:only-of-type {\n",
       "        vertical-align: middle;\n",
       "    }\n",
       "\n",
       "    .dataframe tbody tr th {\n",
       "        vertical-align: top;\n",
       "    }\n",
       "\n",
       "    .dataframe thead th {\n",
       "        text-align: right;\n",
       "    }\n",
       "</style>\n",
       "<table border=\"1\" class=\"dataframe\">\n",
       "  <thead>\n",
       "    <tr style=\"text-align: right;\">\n",
       "      <th></th>\n",
       "      <th>age</th>\n",
       "      <th>sex</th>\n",
       "      <th>bmi</th>\n",
       "      <th>children</th>\n",
       "      <th>smoker</th>\n",
       "      <th>region</th>\n",
       "      <th>charges</th>\n",
       "      <th>age_group</th>\n",
       "    </tr>\n",
       "  </thead>\n",
       "  <tbody>\n",
       "    <tr>\n",
       "      <th>0</th>\n",
       "      <td>19</td>\n",
       "      <td>female</td>\n",
       "      <td>27.900</td>\n",
       "      <td>0</td>\n",
       "      <td>yes</td>\n",
       "      <td>southwest</td>\n",
       "      <td>16884.92400</td>\n",
       "      <td>Young</td>\n",
       "    </tr>\n",
       "    <tr>\n",
       "      <th>1</th>\n",
       "      <td>18</td>\n",
       "      <td>male</td>\n",
       "      <td>33.770</td>\n",
       "      <td>1</td>\n",
       "      <td>no</td>\n",
       "      <td>southeast</td>\n",
       "      <td>1725.55230</td>\n",
       "      <td>Under 18</td>\n",
       "    </tr>\n",
       "    <tr>\n",
       "      <th>2</th>\n",
       "      <td>28</td>\n",
       "      <td>male</td>\n",
       "      <td>33.000</td>\n",
       "      <td>3</td>\n",
       "      <td>no</td>\n",
       "      <td>southeast</td>\n",
       "      <td>4449.46200</td>\n",
       "      <td>Young</td>\n",
       "    </tr>\n",
       "    <tr>\n",
       "      <th>3</th>\n",
       "      <td>33</td>\n",
       "      <td>male</td>\n",
       "      <td>22.705</td>\n",
       "      <td>0</td>\n",
       "      <td>no</td>\n",
       "      <td>northwest</td>\n",
       "      <td>21984.47061</td>\n",
       "      <td>Young</td>\n",
       "    </tr>\n",
       "    <tr>\n",
       "      <th>4</th>\n",
       "      <td>32</td>\n",
       "      <td>male</td>\n",
       "      <td>28.880</td>\n",
       "      <td>0</td>\n",
       "      <td>no</td>\n",
       "      <td>northwest</td>\n",
       "      <td>3866.85520</td>\n",
       "      <td>Young</td>\n",
       "    </tr>\n",
       "  </tbody>\n",
       "</table>\n",
       "</div>"
      ],
      "text/plain": [
       "   age     sex     bmi  children smoker     region      charges age_group\n",
       "0   19  female  27.900         0    yes  southwest  16884.92400     Young\n",
       "1   18    male  33.770         1     no  southeast   1725.55230  Under 18\n",
       "2   28    male  33.000         3     no  southeast   4449.46200     Young\n",
       "3   33    male  22.705         0     no  northwest  21984.47061     Young\n",
       "4   32    male  28.880         0     no  northwest   3866.85520     Young"
      ]
     },
     "execution_count": 61,
     "metadata": {},
     "output_type": "execute_result"
    }
   ],
   "source": [
    "health_data.head()"
   ]
  }
 ],
 "metadata": {
  "kernelspec": {
   "display_name": "Python 3",
   "language": "python",
   "name": "python3"
  },
  "language_info": {
   "codemirror_mode": {
    "name": "ipython",
    "version": 3
   },
   "file_extension": ".py",
   "mimetype": "text/x-python",
   "name": "python",
   "nbconvert_exporter": "python",
   "pygments_lexer": "ipython3",
   "version": "3.11.9"
  }
 },
 "nbformat": 4,
 "nbformat_minor": 5
}
